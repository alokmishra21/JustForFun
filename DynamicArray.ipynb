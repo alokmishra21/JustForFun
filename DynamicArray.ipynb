{
 "cells": [
  {
   "cell_type": "code",
   "execution_count": 78,
   "metadata": {},
   "outputs": [
    {
     "name": "stdout",
     "output_type": "stream",
     "text": [
      "index : 0\n",
      "index : 3\n",
      "index : 5\n",
      "index : 6\n",
      "index : 7\n",
      "removing element : 2\n",
      "Item not found!\n",
      "items in the array : 8\n"
     ]
    }
   ],
   "source": [
    "import ctypes\n",
    "\n",
    "class Vector:\n",
    "    \n",
    "    ''' Dyanmic Vector Implementation '''\n",
    "    \n",
    "    def __init__(self):\n",
    "        self.item = 0\n",
    "        self.capacity = 1\n",
    "        self.array = self.newCapacityArr(self.capacity)\n",
    "    \n",
    "    def add(self, val):\n",
    "        '''\n",
    "            To add a new item to the vector\n",
    "        '''\n",
    "        if self.item < self.capacity:\n",
    "            print(\"index : {}\".format(self.item))\n",
    "            self.array[self.item] = val\n",
    "        else:\n",
    "            new_cap = 2*self.capacity\n",
    "            self._resize(new_cap)\n",
    "            self.array[self.item] = val\n",
    "        self.item += 1\n",
    "        \n",
    "    def remove(self, index):\n",
    "        '''\n",
    "            Remove an item from index \n",
    "        '''\n",
    "        if self.item <= index or index < 0:\n",
    "            print (\"Item not found!\")\n",
    "        else:\n",
    "            print (\"removing element : {}\".format(self.array[index]))\n",
    "            self.array = self.array[0:index] + self.array[index+1:self.item]\n",
    "            self.item -= 1\n",
    "        \n",
    "    def newCapacityArr(self, new_cap):\n",
    "        return (new_cap* ctypes.py_object)()\n",
    "    \n",
    "    def _resize(self, new_cap):\n",
    "        '''\n",
    "            Remove an item from index \n",
    "        '''\n",
    "        B = self.newCapacityArr(new_cap)\n",
    "        self.capacity = new_cap\n",
    "        for i in range(self.item):\n",
    "            B[i] = self.array[i] \n",
    "        self.array = B\n",
    "    \n",
    "    def items(self):\n",
    "        return self.item\n",
    "        \n",
    "\n",
    "x = Vector()\n",
    "x.add(1)\n",
    "x.add(2)\n",
    "x.add(3)\n",
    "x.add(4)\n",
    "x.add(2)\n",
    "x.add(3)\n",
    "x.add(4)\n",
    "x.add(3)\n",
    "x.add(\"4\")\n",
    "x.remove(1)\n",
    "x.remove(-1)\n",
    "print (\"items in the array : %d\" %(x.items()))"
   ]
  },
  {
   "cell_type": "code",
   "execution_count": null,
   "metadata": {},
   "outputs": [],
   "source": []
  }
 ],
 "metadata": {
  "kernelspec": {
   "display_name": "Python 3",
   "language": "python",
   "name": "python3"
  },
  "language_info": {
   "codemirror_mode": {
    "name": "ipython",
    "version": 3
   },
   "file_extension": ".py",
   "mimetype": "text/x-python",
   "name": "python",
   "nbconvert_exporter": "python",
   "pygments_lexer": "ipython3",
   "version": "3.6.5"
  }
 },
 "nbformat": 4,
 "nbformat_minor": 2
}
