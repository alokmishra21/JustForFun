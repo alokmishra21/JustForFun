{
 "cells": [
  {
   "cell_type": "code",
   "execution_count": 86,
   "metadata": {},
   "outputs": [],
   "source": [
    "import matplotlib.pyplot as plt\n",
    "import glob,re\n",
    "import numpy as np"
   ]
  },
  {
   "cell_type": "code",
   "execution_count": 134,
   "metadata": {},
   "outputs": [
    {
     "name": "stdout",
     "output_type": "stream",
     "text": [
      "TimelineHandler\n",
      "found files : \n",
      "\n",
      "C:\\Users\\H299664\\Desktop\\plot\\valgrind_TimelineHandler.2020-02-27-15-30-02-UTC.log\n",
      "C:\\Users\\H299664\\Desktop\\plot\\valgrind_TimelineHandler.2020-02-27-15-47-09-UTC.log\n",
      "C:\\Users\\H299664\\Desktop\\plot\\valgrind_TimelineHandler.2020-02-27-23-01-00-UTC.log\n"
     ]
    },
    {
     "data": {
      "image/png": "[encoded data removed]",
      "text/plain": [
       "<Figure size 432x288 with 1 Axes>"
      ]
     },
     "metadata": {
      "needs_background": "light"
     },
     "output_type": "display_data"
    }
   ],
   "source": [
    "class MemoryLeaks:\n",
    "\n",
    "    def __init__(self):\n",
    "        self.leaksTypes = [\"definitely lost:\", \"indirectly lost:\", \"possibly lost:\"]\n",
    "        self.filesName = []\n",
    "        self.leakslist = []\n",
    "        self.files = []\n",
    "    \n",
    "    def findAllFiles(self, loc):\n",
    "        '''\n",
    "            This function returns the list of all \n",
    "            files found at the location loc, e.g \n",
    "            location \"C:\\\\Users\\\\H299664\\\\Desktop\\\\plot\\\\*.log\"\n",
    "        '''\n",
    "        \n",
    "        self.files = glob.glob(loc)\n",
    "        \n",
    "        print(\"found files : \\n\")\n",
    "        for file in self.files:\n",
    "            print( file )\n",
    "        \n",
    "        if len(self.files) is 0:\n",
    "            print('no file found! Please enter the correct module name.')\n",
    "    \n",
    "    def listLeaks(self):\n",
    "        '''\n",
    "            listLeaks(): creates a list of list where the row is the\n",
    "            files and column is the leak type\n",
    "        '''\n",
    "        if files is 0:\n",
    "            print('no file is given!!!')\n",
    "            return None\n",
    "        \n",
    "        for file in self.files:\n",
    "            # to get the all type of losses from one file\n",
    "            templist = []\n",
    "            \n",
    "            f = open(file,'r')\n",
    "            # regex to get name from the file \n",
    "            fileName = re.search(r'([0-9]+-){5}[0-9]+', file)\n",
    "            \n",
    "            self.filesName.append(fileName.group())\n",
    "            for line in f:\n",
    "                if self.leaksTypes[0] in line:\n",
    "                    temp = line.split(\" \")\n",
    "                    templist = [temp[-5]]\n",
    "                elif self.leaksTypes[1] in line:\n",
    "                    temp = line.split(\" \")\n",
    "                    templist.append(temp[-5])\n",
    "                elif self.leaksTypes[2] in line:\n",
    "                    temp = line.split(\" \")\n",
    "                    templist.append(temp[-5])\n",
    "            f.close()\n",
    "            self.leakslist.append(templist)\n",
    "    \n",
    "    def plot_bar(self):\n",
    "        '''\n",
    "            This function plots the bar chart with\n",
    "            date and time stamp at the bottom and bytes\n",
    "            leaked at y-axis\n",
    "        '''\n",
    "        if len(self.leakslist) == 0:\n",
    "            print('no leak found!!!')\n",
    "            return None\n",
    "        \n",
    "        # list of leaks\n",
    "        Leaks = np.array(self.leakslist) \n",
    "        # this is to index files increasing time order\n",
    "        index = np.arange(len(Leaks))\n",
    "        ax = plt.subplot(111)\n",
    "\n",
    "        rect1 = ax.bar(index-0.2, Leaks[:,0], width=0.2, color='b', align='center')\n",
    "        rect2 = ax.bar(index, Leaks[:,1], width=0.2, color='g', align='center')\n",
    "        rect3 = ax.bar(index+0.2, Leaks[:,2], width=0.2, color='r', align='center')\n",
    "        ax.legend( (rect1[0], rect2[0], rect3[0]), (self.leaksTypes[0], self.leaksTypes[1], self.leaksTypes[2]) )\n",
    "\n",
    "        plt.xlabel('date and time -----------> ')\n",
    "        plt.ylabel('leaks ( bytes ) ----------->')\n",
    "        plt.xticks(index, self.filesName, fontsize=5, rotation=30)\n",
    "        plt.title(\"Memory leaks for \"+ module)\n",
    "        plt.show()\n",
    "\n",
    "# Module?\n",
    "module = input()\n",
    "\n",
    "# instantiating MemoryLeak class\n",
    "mLeak = MemoryLeaks()\n",
    "\n",
    "# location of files\n",
    "loc = \"C:\\\\Users\\\\H299664\\\\Desktop\\\\plot\\\\valgrind_\"+module+\"*.log\"\n",
    "# all files at location\n",
    "mLeak.findAllFiles(loc)\n",
    "\n",
    "mLeak.listLeaks()\n",
    "\n",
    "# plot the leaks\n",
    "mLeak.plot_bar()"
   ]
  }
 ],
 "metadata": {
  "kernelspec": {
   "display_name": "Python 3",
   "language": "python",
   "name": "python3"
  },
  "language_info": {
   "codemirror_mode": {
    "name": "ipython",
    "version": 3
   },
   "file_extension": ".py",
   "mimetype": "text/x-python",
   "name": "python",
   "nbconvert_exporter": "python",
   "pygments_lexer": "ipython3",
   "version": "3.6.5"
  }
 },
 "nbformat": 4,
 "nbformat_minor": 2
}
