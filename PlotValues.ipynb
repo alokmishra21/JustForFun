{
 "cells": [
  {
   "cell_type": "code",
   "execution_count": 86,
   "metadata": {},
   "outputs": [],
   "source": [
    "import matplotlib.pyplot as plt\n",
    "import glob,re\n",
    "import numpy as np"
   ]
  },
  {
   "cell_type": "code",
   "execution_count": 104,
   "metadata": {},
   "outputs": [
    {
     "ename": "SyntaxError",
     "evalue": "invalid syntax (<ipython-input-104-e31c7e3da4d1>, line 17)",
     "output_type": "error",
     "traceback": [
      "\u001b[1;36m  File \u001b[1;32m\"<ipython-input-104-e31c7e3da4d1>\"\u001b[1;36m, line \u001b[1;32m17\u001b[0m\n\u001b[1;33m    throw 'no file found'\u001b[0m\n\u001b[1;37m                        ^\u001b[0m\n\u001b[1;31mSyntaxError\u001b[0m\u001b[1;31m:\u001b[0m invalid syntax\n"
     ]
    }
   ],
   "source": [
    "class MemoryLeaks:\n",
    "\n",
    "    leaksTypes = [\"definitely lost:\", \"indirectly lost:\", \"possibly lost:\"]\n",
    "    filesName = []\n",
    "    \n",
    "    def findAllFiles(self, loc):\n",
    "        '''\n",
    "            This function returns the list of all \n",
    "            files found at the location loc, e.g \n",
    "            location \"C:\\\\Users\\\\H299664\\\\Desktop\\\\plot\\\\*.log\"\n",
    "        '''\n",
    "        \n",
    "        files = glob.glob(loc)\n",
    "        print(\"found files : \", files)\n",
    "        \n",
    "        if len(files) is 0:\n",
    "            print('no file found! Please enter the correct module name')\n",
    "            \n",
    "        return files\n",
    "    \n",
    "    def listLeaks(self, files):\n",
    "        leakslist = []\n",
    "        for file in files:\n",
    "            # to get the all type of losses from one file\n",
    "            templist = []\n",
    "            f = open(file,'r')\n",
    "            # regex to get name from the file \n",
    "            fileName = re.search(r'([0-9]+-){5}[0-9]+', file)\n",
    "            filesName.append(fileName.group())\n",
    "            for line in f:\n",
    "                if leaksTypes[0] in line:\n",
    "                    temp = line.split(\" \")\n",
    "                    templist = [temp[-5]]\n",
    "                elif leaksTypes[1] in line:\n",
    "                    temp = line.split(\" \")\n",
    "                    templist.append(temp[-5])\n",
    "                elif leaksTypes[2] in line:\n",
    "                    temp = line.split(\" \")\n",
    "                    templist.append(temp[-5])\n",
    "            f.close()\n",
    "            leakslist.append(templist)\n",
    "        return leakslist\n",
    "\n",
    "    def printDict():\n",
    "        for x in dictFile:\n",
    "            print(x)\n",
    "            for i in dictFile[x]:\n",
    "                print(i)\n",
    "\n",
    "# Module?\n",
    "module = input()\n",
    "# instantiating MemoryLeak class\n",
    "mLeak = MemoryLeaks()\n",
    "# location of files\n",
    "loc = \"C:\\\\Users\\\\H299664\\\\Desktop\\\\plot\\\\valgrind_\"+module+\"*.log\"\n",
    "# all files at location\n",
    "files = mLeak.findAllFiles(loc)\n",
    "# list of leaks\n",
    "dictLeaks = np.array(mLeak.listLeaks(files))"
   ]
  },
  {
   "cell_type": "code",
   "execution_count": 108,
   "metadata": {},
   "outputs": [],
   "source": [
    "# plot the leaks\n",
    "def plot_bar():\n",
    "    # this is to index files increasing time order\n",
    "    index = np.arange(len(dictLeaks))\n",
    "    ax = plt.subplot(111)\n",
    "    \n",
    "    rect1 = ax.bar(index-0.2, dictLeaks[:,0], width=0.2, color='b', align='center')\n",
    "    rect2 = ax.bar(index, dictLeaks[:,1], width=0.2, color='g', align='center')\n",
    "    rect3 = ax.bar(index+0.2, dictLeaks[:,2], width=0.2, color='r', align='center')\n",
    "    ax.legend( (rect1[0], rect2[0], rect3[0]), (leaksTypes[0], leaksTypes[1], leaksTypes[2]) )\n",
    "    \n",
    "    plt.xlabel('date and time -----------> ')\n",
    "    plt.ylabel('leaks ( bytes ) ----------->')\n",
    "    plt.xticks(index, filesName, fontsize=5, rotation=30)\n",
    "    plt.title(\"Memory leaks for \"+ module)\n",
    "    plt.show()"
   ]
  },
  {
   "cell_type": "code",
   "execution_count": 109,
   "metadata": {},
   "outputs": [
    {
     "data": {
      "image/png": "[encoded data removed]",
      "text/plain": [
       "<Figure size 432x288 with 1 Axes>"
      ]
     },
     "metadata": {
      "needs_background": "light"
     },
     "output_type": "display_data"
    }
   ],
   "source": [
    "plot_bar()\n",
    "# help(plt.subplot)"
   ]
  }
 ],
 "metadata": {
  "kernelspec": {
   "display_name": "Python 3",
   "language": "python",
   "name": "python3"
  },
  "language_info": {
   "codemirror_mode": {
    "name": "ipython",
    "version": 3
   },
   "file_extension": ".py",
   "mimetype": "text/x-python",
   "name": "python",
   "nbconvert_exporter": "python",
   "pygments_lexer": "ipython3",
   "version": "3.6.5"
  }
 },
 "nbformat": 4,
 "nbformat_minor": 2
}
